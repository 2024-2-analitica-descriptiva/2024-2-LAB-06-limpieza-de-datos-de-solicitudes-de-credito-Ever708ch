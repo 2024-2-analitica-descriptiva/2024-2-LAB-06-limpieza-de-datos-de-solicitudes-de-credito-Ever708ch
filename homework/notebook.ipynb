{
 "cells": [
  {
   "cell_type": "code",
   "execution_count": 9,
   "metadata": {},
   "outputs": [
    {
     "name": "stdout",
     "output_type": "stream",
     "text": [
      "Conteo inicial de 'sexo': [6793, 3686, 165, 120, 88, 68]\n"
     ]
    }
   ],
   "source": [
    "import pandas as pd\n",
    "df = pd.read_csv(\"../files/input/solicitudes_de_credito.csv\", sep=\";\")\n",
    "print(\"Conteo inicial de 'sexo':\", df[\"sexo\"].value_counts().to_list())\n"
   ]
  },
  {
   "cell_type": "code",
   "execution_count": null,
   "metadata": {},
   "outputs": [
    {
     "name": "stdout",
     "output_type": "stream",
     "text": [
      "Directorio de trabajo actual: d:\\ever\\PhD\\descriptiva\\2024-2-LAB-06-limpieza-de-datos-de-solicitudes-de-credito-Ever708ch\\homework\n",
      "Conteo de valores en 'sexo': [6617, 3589]\n"
     ]
    }
   ],
   "source": [
    "def pregunta_01():\n",
    "    \"\"\"\n",
    "    Realice la limpieza del archivo \"files/input/solicitudes_de_credito.csv\".\n",
    "    El archivo tiene problemas como registros duplicados y datos faltantes.\n",
    "    Tenga en cuenta todas las verificaciones discutidas en clase para\n",
    "    realizar la limpieza de los datos.\n",
    "\n",
    "    El archivo limpio debe escribirse en \"files/output/solicitudes_de_credito.csv\"\n",
    "\n",
    "    \"\"\"\n",
    "    import pandas as pd\n",
    "    import re\n",
    "    import os\n",
    "\n",
    "    def format_date(str_date):\n",
    "        d = re.search(r'(^\\d+)\\/(\\d+)\\/(\\d+)', str_date, re.IGNORECASE)\n",
    "        day = d.group(1)\n",
    "        month = d.group(2)\n",
    "        year = d.group(3)\n",
    "        if len(day) > 2:\n",
    "            date = year + '/' + month + '/' + day\n",
    "            return date\n",
    "        else:\n",
    "            date = day + '/' + month + '/' + year\n",
    "            return date\n",
    "\n",
    "    # Leer archivo original\n",
    "    df = pd.read_csv(\"../files/input/solicitudes_de_credito.csv\", sep=\";\")\n",
    "    df = df[df.columns[1:]]\n",
    "    \n",
    "    # Eliminar duplicados y valores nulos\n",
    "    df.drop_duplicates(inplace=True)\n",
    "    df.dropna(inplace=True)\n",
    "\n",
    "    # Normalizar columnas\n",
    "    for i in df.columns:\n",
    "        try:\n",
    "            df[i] = df[i].str.lower()\n",
    "        except:\n",
    "            pass\n",
    "\n",
    "    df.idea_negocio = df.idea_negocio.map(lambda x: re.sub(\"-|_\", \" \", str(x)))\n",
    "    df.idea_negocio = df.idea_negocio.str.strip()\n",
    "    df.monto_del_credito = df.monto_del_credito.map(lambda x: re.sub(\"\\$|,\", \"\", str(x)))\n",
    "    df[\"línea_credito\"] = df[\"línea_credito\"].map(lambda x: re.sub(\"-|_\", \" \", str(x)))\n",
    "    df[\"línea_credito\"] = df[\"línea_credito\"].str.strip()\n",
    "    df.barrio = df.barrio.map(lambda x: re.sub(\"-| \", \"_\", str(x)))\n",
    "    df.fecha_de_beneficio = df.fecha_de_beneficio.map(format_date)\n",
    "    df.monto_del_credito = df.monto_del_credito.map(lambda x: float(x))\n",
    "\n",
    "    # Eliminar duplicados y valores nulos nuevamente después de las transformaciones\n",
    "    df.drop_duplicates(inplace=True)\n",
    "    df.dropna(inplace=True)\n",
    "\n",
    "    output_dir = \"../files/output/\"\n",
    "    os.makedirs(output_dir, exist_ok=True)\n",
    "    df.to_csv(os.path.join(output_dir, \"solicitudes_de_credito.csv\"), index=False)\n",
    "    print(\"Directorio de trabajo actual:\", os.getcwd())\n",
    "    a= df.sexo.value_counts().to_list()\n",
    "    \n",
    "    return df\n",
    "\n",
    "df_limpio = pregunta_01()\n",
    "\n",
    "# Obtén el conteo de valores de la columna 'sexo'\n",
    "conteo_sexo = df_limpio[\"sexo\"].value_counts().to_list()\n",
    "print(\"Conteo de valores en 'sexo':\", conteo_sexo)\n",
    "\n"
   ]
  }
 ],
 "metadata": {
  "kernelspec": {
   "display_name": ".venv",
   "language": "python",
   "name": "python3"
  },
  "language_info": {
   "codemirror_mode": {
    "name": "ipython",
    "version": 3
   },
   "file_extension": ".py",
   "mimetype": "text/x-python",
   "name": "python",
   "nbconvert_exporter": "python",
   "pygments_lexer": "ipython3",
   "version": "3.10.7"
  }
 },
 "nbformat": 4,
 "nbformat_minor": 2
}
